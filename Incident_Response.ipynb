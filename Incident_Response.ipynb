{
  "nbformat": 4,
  "nbformat_minor": 0,
  "metadata": {
    "colab": {
      "provenance": []
    },
    "kernelspec": {
      "name": "python3",
      "display_name": "Python 3"
    },
    "language_info": {
      "name": "python"
    }
  },
  "cells": [
    {
      "cell_type": "markdown",
      "source": [
        "# **Incident Response and Resolution Tool**\n",
        "\n",
        "---\n",
        "\n"
      ],
      "metadata": {
        "id": "mwm0r8-Ew5ji"
      }
    },
    {
      "cell_type": "markdown",
      "source": [
        "# **1. Problem Statement**\n",
        "\n",
        "In large organizations, incident management is a critical function that ensures service reliability and customer satisfaction. However, as the volume of incidents grows, it becomes challenging for incident response teams to efficiently prioritize which incidents to address first. Without a systematic prioritization approach, high-impact or urgent incidents might get overlooked, leading to prolonged downtimes, customer dissatisfaction, and potential revenue loss.\n",
        "\n"
      ],
      "metadata": {
        "id": "sjsgOVZETIDu"
      }
    },
    {
      "cell_type": "markdown",
      "source": [
        "# **2. Project Objectives**\n",
        "\n",
        "*   **Develop a Prioritization Scoring System**: Helps assign a numerical score to each incident, considering factors like incident age, urgency, reassignments, and reopenings.\n",
        "\n",
        "*   **Automate Incident Ranking**: Use the scoring system to rank incidents from most to least critical, allowing response teams to focus on top-priority incidents.\n",
        "\n",
        "*  **Improve Incident Management Efficiency**: Provide a streamlined, data-driven approach to incident prioritization, reducing response times and optimizing resource allocation."
      ],
      "metadata": {
        "id": "4WlDStEaTjbF"
      }
    },
    {
      "cell_type": "markdown",
      "source": [
        "# **3. Data Preparation and Exploration**\n",
        "\n",
        "\n",
        "## **Import Libraries**"
      ],
      "metadata": {
        "id": "llLzSezK0ONc"
      }
    },
    {
      "cell_type": "code",
      "source": [
        "# Import libraries for data manipulation\n",
        "import pandas as pd\n",
        "import numpy as np\n",
        "from datetime  import datetime\n",
        "import matplotlib.pyplot as plt\n",
        "import seaborn as sns\n",
        "import warnings\n",
        "warnings.filterwarnings('ignore')"
      ],
      "metadata": {
        "id": "jga6XL7e0akE"
      },
      "execution_count": 107,
      "outputs": []
    },
    {
      "cell_type": "markdown",
      "source": [
        "## **Read in the data set using the code:**\n",
        "\n"
      ],
      "metadata": {
        "id": "0-aq1y6F-Qi0"
      }
    },
    {
      "source": [
        "# Import libraries\n",
        "import pandas as pd\n",
        "\n",
        "# Load the data\n",
        "incident_data = pd.read_csv('/content/drive/MyDrive/Colab Notebooks/incident_event_log.csv')\n",
        "\n",
        "# Display the first few rows of the dataset\n",
        "incident_data.head()"
      ],
      "cell_type": "code",
      "metadata": {
        "colab": {
          "base_uri": "https://localhost:8080/",
          "height": 342
        },
        "id": "UQrMAbsMzZSG",
        "outputId": "61de8fab-f490-4997-870f-71c56292f53d"
      },
      "execution_count": 108,
      "outputs": [
        {
          "output_type": "execute_result",
          "data": {
            "text/plain": [
              "       number incident_state  active  reassignment_count  reopen_count  \\\n",
              "0  INC0000045            New    True                   0             0   \n",
              "1  INC0000045       Resolved    True                   0             0   \n",
              "2  INC0000045       Resolved    True                   0             0   \n",
              "3  INC0000045         Closed   False                   0             0   \n",
              "4  INC0000047            New    True                   0             0   \n",
              "\n",
              "   sys_mod_count  made_sla    caller_id       opened_by        opened_at  ...  \\\n",
              "0              0      True  Caller 2403    Opened by  8  29/2/2016 01:16  ...   \n",
              "1              2      True  Caller 2403    Opened by  8  29/2/2016 01:16  ...   \n",
              "2              3      True  Caller 2403    Opened by  8  29/2/2016 01:16  ...   \n",
              "3              4      True  Caller 2403    Opened by  8  29/2/2016 01:16  ...   \n",
              "4              0      True  Caller 2403  Opened by  397  29/2/2016 04:40  ...   \n",
              "\n",
              "  u_priority_confirmation         notify problem_id rfc vendor caused_by  \\\n",
              "0                   False  Do Not Notify          ?   ?      ?         ?   \n",
              "1                   False  Do Not Notify          ?   ?      ?         ?   \n",
              "2                   False  Do Not Notify          ?   ?      ?         ?   \n",
              "3                   False  Do Not Notify          ?   ?      ?         ?   \n",
              "4                   False  Do Not Notify          ?   ?      ?         ?   \n",
              "\n",
              "  closed_code      resolved_by      resolved_at       closed_at  \n",
              "0      code 5  Resolved by 149  29/2/2016 11:29  5/3/2016 12:00  \n",
              "1      code 5  Resolved by 149  29/2/2016 11:29  5/3/2016 12:00  \n",
              "2      code 5  Resolved by 149  29/2/2016 11:29  5/3/2016 12:00  \n",
              "3      code 5  Resolved by 149  29/2/2016 11:29  5/3/2016 12:00  \n",
              "4      code 5   Resolved by 81   1/3/2016 09:52  6/3/2016 10:00  \n",
              "\n",
              "[5 rows x 36 columns]"
            ],
            "text/html": [
              "\n",
              "  <div id=\"df-7344305a-2224-4958-afd8-3c21188a308f\" class=\"colab-df-container\">\n",
              "    <div>\n",
              "<style scoped>\n",
              "    .dataframe tbody tr th:only-of-type {\n",
              "        vertical-align: middle;\n",
              "    }\n",
              "\n",
              "    .dataframe tbody tr th {\n",
              "        vertical-align: top;\n",
              "    }\n",
              "\n",
              "    .dataframe thead th {\n",
              "        text-align: right;\n",
              "    }\n",
              "</style>\n",
              "<table border=\"1\" class=\"dataframe\">\n",
              "  <thead>\n",
              "    <tr style=\"text-align: right;\">\n",
              "      <th></th>\n",
              "      <th>number</th>\n",
              "      <th>incident_state</th>\n",
              "      <th>active</th>\n",
              "      <th>reassignment_count</th>\n",
              "      <th>reopen_count</th>\n",
              "      <th>sys_mod_count</th>\n",
              "      <th>made_sla</th>\n",
              "      <th>caller_id</th>\n",
              "      <th>opened_by</th>\n",
              "      <th>opened_at</th>\n",
              "      <th>...</th>\n",
              "      <th>u_priority_confirmation</th>\n",
              "      <th>notify</th>\n",
              "      <th>problem_id</th>\n",
              "      <th>rfc</th>\n",
              "      <th>vendor</th>\n",
              "      <th>caused_by</th>\n",
              "      <th>closed_code</th>\n",
              "      <th>resolved_by</th>\n",
              "      <th>resolved_at</th>\n",
              "      <th>closed_at</th>\n",
              "    </tr>\n",
              "  </thead>\n",
              "  <tbody>\n",
              "    <tr>\n",
              "      <th>0</th>\n",
              "      <td>INC0000045</td>\n",
              "      <td>New</td>\n",
              "      <td>True</td>\n",
              "      <td>0</td>\n",
              "      <td>0</td>\n",
              "      <td>0</td>\n",
              "      <td>True</td>\n",
              "      <td>Caller 2403</td>\n",
              "      <td>Opened by  8</td>\n",
              "      <td>29/2/2016 01:16</td>\n",
              "      <td>...</td>\n",
              "      <td>False</td>\n",
              "      <td>Do Not Notify</td>\n",
              "      <td>?</td>\n",
              "      <td>?</td>\n",
              "      <td>?</td>\n",
              "      <td>?</td>\n",
              "      <td>code 5</td>\n",
              "      <td>Resolved by 149</td>\n",
              "      <td>29/2/2016 11:29</td>\n",
              "      <td>5/3/2016 12:00</td>\n",
              "    </tr>\n",
              "    <tr>\n",
              "      <th>1</th>\n",
              "      <td>INC0000045</td>\n",
              "      <td>Resolved</td>\n",
              "      <td>True</td>\n",
              "      <td>0</td>\n",
              "      <td>0</td>\n",
              "      <td>2</td>\n",
              "      <td>True</td>\n",
              "      <td>Caller 2403</td>\n",
              "      <td>Opened by  8</td>\n",
              "      <td>29/2/2016 01:16</td>\n",
              "      <td>...</td>\n",
              "      <td>False</td>\n",
              "      <td>Do Not Notify</td>\n",
              "      <td>?</td>\n",
              "      <td>?</td>\n",
              "      <td>?</td>\n",
              "      <td>?</td>\n",
              "      <td>code 5</td>\n",
              "      <td>Resolved by 149</td>\n",
              "      <td>29/2/2016 11:29</td>\n",
              "      <td>5/3/2016 12:00</td>\n",
              "    </tr>\n",
              "    <tr>\n",
              "      <th>2</th>\n",
              "      <td>INC0000045</td>\n",
              "      <td>Resolved</td>\n",
              "      <td>True</td>\n",
              "      <td>0</td>\n",
              "      <td>0</td>\n",
              "      <td>3</td>\n",
              "      <td>True</td>\n",
              "      <td>Caller 2403</td>\n",
              "      <td>Opened by  8</td>\n",
              "      <td>29/2/2016 01:16</td>\n",
              "      <td>...</td>\n",
              "      <td>False</td>\n",
              "      <td>Do Not Notify</td>\n",
              "      <td>?</td>\n",
              "      <td>?</td>\n",
              "      <td>?</td>\n",
              "      <td>?</td>\n",
              "      <td>code 5</td>\n",
              "      <td>Resolved by 149</td>\n",
              "      <td>29/2/2016 11:29</td>\n",
              "      <td>5/3/2016 12:00</td>\n",
              "    </tr>\n",
              "    <tr>\n",
              "      <th>3</th>\n",
              "      <td>INC0000045</td>\n",
              "      <td>Closed</td>\n",
              "      <td>False</td>\n",
              "      <td>0</td>\n",
              "      <td>0</td>\n",
              "      <td>4</td>\n",
              "      <td>True</td>\n",
              "      <td>Caller 2403</td>\n",
              "      <td>Opened by  8</td>\n",
              "      <td>29/2/2016 01:16</td>\n",
              "      <td>...</td>\n",
              "      <td>False</td>\n",
              "      <td>Do Not Notify</td>\n",
              "      <td>?</td>\n",
              "      <td>?</td>\n",
              "      <td>?</td>\n",
              "      <td>?</td>\n",
              "      <td>code 5</td>\n",
              "      <td>Resolved by 149</td>\n",
              "      <td>29/2/2016 11:29</td>\n",
              "      <td>5/3/2016 12:00</td>\n",
              "    </tr>\n",
              "    <tr>\n",
              "      <th>4</th>\n",
              "      <td>INC0000047</td>\n",
              "      <td>New</td>\n",
              "      <td>True</td>\n",
              "      <td>0</td>\n",
              "      <td>0</td>\n",
              "      <td>0</td>\n",
              "      <td>True</td>\n",
              "      <td>Caller 2403</td>\n",
              "      <td>Opened by  397</td>\n",
              "      <td>29/2/2016 04:40</td>\n",
              "      <td>...</td>\n",
              "      <td>False</td>\n",
              "      <td>Do Not Notify</td>\n",
              "      <td>?</td>\n",
              "      <td>?</td>\n",
              "      <td>?</td>\n",
              "      <td>?</td>\n",
              "      <td>code 5</td>\n",
              "      <td>Resolved by 81</td>\n",
              "      <td>1/3/2016 09:52</td>\n",
              "      <td>6/3/2016 10:00</td>\n",
              "    </tr>\n",
              "  </tbody>\n",
              "</table>\n",
              "<p>5 rows × 36 columns</p>\n",
              "</div>\n",
              "    <div class=\"colab-df-buttons\">\n",
              "\n",
              "  <div class=\"colab-df-container\">\n",
              "    <button class=\"colab-df-convert\" onclick=\"convertToInteractive('df-7344305a-2224-4958-afd8-3c21188a308f')\"\n",
              "            title=\"Convert this dataframe to an interactive table.\"\n",
              "            style=\"display:none;\">\n",
              "\n",
              "  <svg xmlns=\"http://www.w3.org/2000/svg\" height=\"24px\" viewBox=\"0 -960 960 960\">\n",
              "    <path d=\"M120-120v-720h720v720H120Zm60-500h600v-160H180v160Zm220 220h160v-160H400v160Zm0 220h160v-160H400v160ZM180-400h160v-160H180v160Zm440 0h160v-160H620v160ZM180-180h160v-160H180v160Zm440 0h160v-160H620v160Z\"/>\n",
              "  </svg>\n",
              "    </button>\n",
              "\n",
              "  <style>\n",
              "    .colab-df-container {\n",
              "      display:flex;\n",
              "      gap: 12px;\n",
              "    }\n",
              "\n",
              "    .colab-df-convert {\n",
              "      background-color: #E8F0FE;\n",
              "      border: none;\n",
              "      border-radius: 50%;\n",
              "      cursor: pointer;\n",
              "      display: none;\n",
              "      fill: #1967D2;\n",
              "      height: 32px;\n",
              "      padding: 0 0 0 0;\n",
              "      width: 32px;\n",
              "    }\n",
              "\n",
              "    .colab-df-convert:hover {\n",
              "      background-color: #E2EBFA;\n",
              "      box-shadow: 0px 1px 2px rgba(60, 64, 67, 0.3), 0px 1px 3px 1px rgba(60, 64, 67, 0.15);\n",
              "      fill: #174EA6;\n",
              "    }\n",
              "\n",
              "    .colab-df-buttons div {\n",
              "      margin-bottom: 4px;\n",
              "    }\n",
              "\n",
              "    [theme=dark] .colab-df-convert {\n",
              "      background-color: #3B4455;\n",
              "      fill: #D2E3FC;\n",
              "    }\n",
              "\n",
              "    [theme=dark] .colab-df-convert:hover {\n",
              "      background-color: #434B5C;\n",
              "      box-shadow: 0px 1px 3px 1px rgba(0, 0, 0, 0.15);\n",
              "      filter: drop-shadow(0px 1px 2px rgba(0, 0, 0, 0.3));\n",
              "      fill: #FFFFFF;\n",
              "    }\n",
              "  </style>\n",
              "\n",
              "    <script>\n",
              "      const buttonEl =\n",
              "        document.querySelector('#df-7344305a-2224-4958-afd8-3c21188a308f button.colab-df-convert');\n",
              "      buttonEl.style.display =\n",
              "        google.colab.kernel.accessAllowed ? 'block' : 'none';\n",
              "\n",
              "      async function convertToInteractive(key) {\n",
              "        const element = document.querySelector('#df-7344305a-2224-4958-afd8-3c21188a308f');\n",
              "        const dataTable =\n",
              "          await google.colab.kernel.invokeFunction('convertToInteractive',\n",
              "                                                    [key], {});\n",
              "        if (!dataTable) return;\n",
              "\n",
              "        const docLinkHtml = 'Like what you see? Visit the ' +\n",
              "          '<a target=\"_blank\" href=https://colab.research.google.com/notebooks/data_table.ipynb>data table notebook</a>'\n",
              "          + ' to learn more about interactive tables.';\n",
              "        element.innerHTML = '';\n",
              "        dataTable['output_type'] = 'display_data';\n",
              "        await google.colab.output.renderOutput(dataTable, element);\n",
              "        const docLink = document.createElement('div');\n",
              "        docLink.innerHTML = docLinkHtml;\n",
              "        element.appendChild(docLink);\n",
              "      }\n",
              "    </script>\n",
              "  </div>\n",
              "\n",
              "\n",
              "<div id=\"df-66c4b6b2-1b9e-40a9-bf72-ec413c328c69\">\n",
              "  <button class=\"colab-df-quickchart\" onclick=\"quickchart('df-66c4b6b2-1b9e-40a9-bf72-ec413c328c69')\"\n",
              "            title=\"Suggest charts\"\n",
              "            style=\"display:none;\">\n",
              "\n",
              "<svg xmlns=\"http://www.w3.org/2000/svg\" height=\"24px\"viewBox=\"0 0 24 24\"\n",
              "     width=\"24px\">\n",
              "    <g>\n",
              "        <path d=\"M19 3H5c-1.1 0-2 .9-2 2v14c0 1.1.9 2 2 2h14c1.1 0 2-.9 2-2V5c0-1.1-.9-2-2-2zM9 17H7v-7h2v7zm4 0h-2V7h2v10zm4 0h-2v-4h2v4z\"/>\n",
              "    </g>\n",
              "</svg>\n",
              "  </button>\n",
              "\n",
              "<style>\n",
              "  .colab-df-quickchart {\n",
              "      --bg-color: #E8F0FE;\n",
              "      --fill-color: #1967D2;\n",
              "      --hover-bg-color: #E2EBFA;\n",
              "      --hover-fill-color: #174EA6;\n",
              "      --disabled-fill-color: #AAA;\n",
              "      --disabled-bg-color: #DDD;\n",
              "  }\n",
              "\n",
              "  [theme=dark] .colab-df-quickchart {\n",
              "      --bg-color: #3B4455;\n",
              "      --fill-color: #D2E3FC;\n",
              "      --hover-bg-color: #434B5C;\n",
              "      --hover-fill-color: #FFFFFF;\n",
              "      --disabled-bg-color: #3B4455;\n",
              "      --disabled-fill-color: #666;\n",
              "  }\n",
              "\n",
              "  .colab-df-quickchart {\n",
              "    background-color: var(--bg-color);\n",
              "    border: none;\n",
              "    border-radius: 50%;\n",
              "    cursor: pointer;\n",
              "    display: none;\n",
              "    fill: var(--fill-color);\n",
              "    height: 32px;\n",
              "    padding: 0;\n",
              "    width: 32px;\n",
              "  }\n",
              "\n",
              "  .colab-df-quickchart:hover {\n",
              "    background-color: var(--hover-bg-color);\n",
              "    box-shadow: 0 1px 2px rgba(60, 64, 67, 0.3), 0 1px 3px 1px rgba(60, 64, 67, 0.15);\n",
              "    fill: var(--button-hover-fill-color);\n",
              "  }\n",
              "\n",
              "  .colab-df-quickchart-complete:disabled,\n",
              "  .colab-df-quickchart-complete:disabled:hover {\n",
              "    background-color: var(--disabled-bg-color);\n",
              "    fill: var(--disabled-fill-color);\n",
              "    box-shadow: none;\n",
              "  }\n",
              "\n",
              "  .colab-df-spinner {\n",
              "    border: 2px solid var(--fill-color);\n",
              "    border-color: transparent;\n",
              "    border-bottom-color: var(--fill-color);\n",
              "    animation:\n",
              "      spin 1s steps(1) infinite;\n",
              "  }\n",
              "\n",
              "  @keyframes spin {\n",
              "    0% {\n",
              "      border-color: transparent;\n",
              "      border-bottom-color: var(--fill-color);\n",
              "      border-left-color: var(--fill-color);\n",
              "    }\n",
              "    20% {\n",
              "      border-color: transparent;\n",
              "      border-left-color: var(--fill-color);\n",
              "      border-top-color: var(--fill-color);\n",
              "    }\n",
              "    30% {\n",
              "      border-color: transparent;\n",
              "      border-left-color: var(--fill-color);\n",
              "      border-top-color: var(--fill-color);\n",
              "      border-right-color: var(--fill-color);\n",
              "    }\n",
              "    40% {\n",
              "      border-color: transparent;\n",
              "      border-right-color: var(--fill-color);\n",
              "      border-top-color: var(--fill-color);\n",
              "    }\n",
              "    60% {\n",
              "      border-color: transparent;\n",
              "      border-right-color: var(--fill-color);\n",
              "    }\n",
              "    80% {\n",
              "      border-color: transparent;\n",
              "      border-right-color: var(--fill-color);\n",
              "      border-bottom-color: var(--fill-color);\n",
              "    }\n",
              "    90% {\n",
              "      border-color: transparent;\n",
              "      border-bottom-color: var(--fill-color);\n",
              "    }\n",
              "  }\n",
              "</style>\n",
              "\n",
              "  <script>\n",
              "    async function quickchart(key) {\n",
              "      const quickchartButtonEl =\n",
              "        document.querySelector('#' + key + ' button');\n",
              "      quickchartButtonEl.disabled = true;  // To prevent multiple clicks.\n",
              "      quickchartButtonEl.classList.add('colab-df-spinner');\n",
              "      try {\n",
              "        const charts = await google.colab.kernel.invokeFunction(\n",
              "            'suggestCharts', [key], {});\n",
              "      } catch (error) {\n",
              "        console.error('Error during call to suggestCharts:', error);\n",
              "      }\n",
              "      quickchartButtonEl.classList.remove('colab-df-spinner');\n",
              "      quickchartButtonEl.classList.add('colab-df-quickchart-complete');\n",
              "    }\n",
              "    (() => {\n",
              "      let quickchartButtonEl =\n",
              "        document.querySelector('#df-66c4b6b2-1b9e-40a9-bf72-ec413c328c69 button');\n",
              "      quickchartButtonEl.style.display =\n",
              "        google.colab.kernel.accessAllowed ? 'block' : 'none';\n",
              "    })();\n",
              "  </script>\n",
              "</div>\n",
              "\n",
              "    </div>\n",
              "  </div>\n"
            ],
            "application/vnd.google.colaboratory.intrinsic+json": {
              "type": "dataframe",
              "variable_name": "incident_data"
            }
          },
          "metadata": {},
          "execution_count": 108
        }
      ]
    },
    {
      "cell_type": "markdown",
      "source": [
        "# **Preprocessing Data**"
      ],
      "metadata": {
        "id": "SGI7a5al-NLV"
      }
    },
    {
      "cell_type": "code",
      "source": [
        "# Preview Data\n",
        "incident_data.info()"
      ],
      "metadata": {
        "id": "rwNwoZ985gqx",
        "colab": {
          "base_uri": "https://localhost:8080/"
        },
        "outputId": "e08b5081-00da-4099-a5f8-bcbe1b1c23fd"
      },
      "execution_count": 109,
      "outputs": [
        {
          "output_type": "stream",
          "name": "stdout",
          "text": [
            "<class 'pandas.core.frame.DataFrame'>\n",
            "RangeIndex: 119998 entries, 0 to 119997\n",
            "Data columns (total 36 columns):\n",
            " #   Column                   Non-Null Count   Dtype \n",
            "---  ------                   --------------   ----- \n",
            " 0   number                   119998 non-null  object\n",
            " 1   incident_state           119998 non-null  object\n",
            " 2   active                   119998 non-null  bool  \n",
            " 3   reassignment_count       119998 non-null  int64 \n",
            " 4   reopen_count             119998 non-null  int64 \n",
            " 5   sys_mod_count            119998 non-null  int64 \n",
            " 6   made_sla                 119998 non-null  bool  \n",
            " 7   caller_id                119998 non-null  object\n",
            " 8   opened_by                119998 non-null  object\n",
            " 9   opened_at                119998 non-null  object\n",
            " 10  sys_created_by           119998 non-null  object\n",
            " 11  sys_created_at           119998 non-null  object\n",
            " 12  sys_updated_by           119998 non-null  object\n",
            " 13  sys_updated_at           119998 non-null  object\n",
            " 14  contact_type             119998 non-null  object\n",
            " 15  location                 119998 non-null  object\n",
            " 16  category                 119998 non-null  object\n",
            " 17  subcategory              119998 non-null  object\n",
            " 18  u_symptom                119998 non-null  object\n",
            " 19  cmdb_ci                  119998 non-null  object\n",
            " 20  impact                   119998 non-null  object\n",
            " 21  urgency                  119998 non-null  object\n",
            " 22  priority                 119998 non-null  object\n",
            " 23  assignment_group         119998 non-null  object\n",
            " 24  assigned_to              119998 non-null  object\n",
            " 25  knowledge                119998 non-null  bool  \n",
            " 26  u_priority_confirmation  119998 non-null  bool  \n",
            " 27  notify                   119998 non-null  object\n",
            " 28  problem_id               119998 non-null  object\n",
            " 29  rfc                      119998 non-null  object\n",
            " 30  vendor                   119998 non-null  object\n",
            " 31  caused_by                119998 non-null  object\n",
            " 32  closed_code              119998 non-null  object\n",
            " 33  resolved_by              119998 non-null  object\n",
            " 34  resolved_at              119998 non-null  object\n",
            " 35  closed_at                119998 non-null  object\n",
            "dtypes: bool(4), int64(3), object(29)\n",
            "memory usage: 29.8+ MB\n"
          ]
        }
      ]
    },
    {
      "cell_type": "code",
      "source": [
        "# Checking unique values in each column\n",
        "incident_data.nunique()"
      ],
      "metadata": {
        "id": "1yW_UYvC7E3s",
        "colab": {
          "base_uri": "https://localhost:8080/",
          "height": 1000
        },
        "outputId": "f183a4d9-d093-43b9-b2d4-cb093398c80a"
      },
      "execution_count": 110,
      "outputs": [
        {
          "output_type": "execute_result",
          "data": {
            "text/plain": [
              "number                     20769\n",
              "incident_state                 9\n",
              "active                         2\n",
              "reassignment_count            28\n",
              "reopen_count                   9\n",
              "sys_mod_count                115\n",
              "made_sla                       2\n",
              "caller_id                   4829\n",
              "opened_by                    157\n",
              "opened_at                  16349\n",
              "sys_created_by               150\n",
              "sys_created_at              9980\n",
              "sys_updated_by               714\n",
              "sys_updated_at             41969\n",
              "contact_type                   2\n",
              "location                     203\n",
              "category                      45\n",
              "subcategory                  221\n",
              "u_symptom                    500\n",
              "cmdb_ci                       49\n",
              "impact                         3\n",
              "urgency                        3\n",
              "priority                       4\n",
              "assignment_group              73\n",
              "assigned_to                  209\n",
              "knowledge                      2\n",
              "u_priority_confirmation        2\n",
              "notify                         2\n",
              "problem_id                   216\n",
              "rfc                          163\n",
              "vendor                         5\n",
              "caused_by                      3\n",
              "closed_code                   17\n",
              "resolved_by                  191\n",
              "resolved_at                15333\n",
              "closed_at                   2013\n",
              "dtype: int64"
            ],
            "text/html": [
              "<div>\n",
              "<style scoped>\n",
              "    .dataframe tbody tr th:only-of-type {\n",
              "        vertical-align: middle;\n",
              "    }\n",
              "\n",
              "    .dataframe tbody tr th {\n",
              "        vertical-align: top;\n",
              "    }\n",
              "\n",
              "    .dataframe thead th {\n",
              "        text-align: right;\n",
              "    }\n",
              "</style>\n",
              "<table border=\"1\" class=\"dataframe\">\n",
              "  <thead>\n",
              "    <tr style=\"text-align: right;\">\n",
              "      <th></th>\n",
              "      <th>0</th>\n",
              "    </tr>\n",
              "  </thead>\n",
              "  <tbody>\n",
              "    <tr>\n",
              "      <th>number</th>\n",
              "      <td>20769</td>\n",
              "    </tr>\n",
              "    <tr>\n",
              "      <th>incident_state</th>\n",
              "      <td>9</td>\n",
              "    </tr>\n",
              "    <tr>\n",
              "      <th>active</th>\n",
              "      <td>2</td>\n",
              "    </tr>\n",
              "    <tr>\n",
              "      <th>reassignment_count</th>\n",
              "      <td>28</td>\n",
              "    </tr>\n",
              "    <tr>\n",
              "      <th>reopen_count</th>\n",
              "      <td>9</td>\n",
              "    </tr>\n",
              "    <tr>\n",
              "      <th>sys_mod_count</th>\n",
              "      <td>115</td>\n",
              "    </tr>\n",
              "    <tr>\n",
              "      <th>made_sla</th>\n",
              "      <td>2</td>\n",
              "    </tr>\n",
              "    <tr>\n",
              "      <th>caller_id</th>\n",
              "      <td>4829</td>\n",
              "    </tr>\n",
              "    <tr>\n",
              "      <th>opened_by</th>\n",
              "      <td>157</td>\n",
              "    </tr>\n",
              "    <tr>\n",
              "      <th>opened_at</th>\n",
              "      <td>16349</td>\n",
              "    </tr>\n",
              "    <tr>\n",
              "      <th>sys_created_by</th>\n",
              "      <td>150</td>\n",
              "    </tr>\n",
              "    <tr>\n",
              "      <th>sys_created_at</th>\n",
              "      <td>9980</td>\n",
              "    </tr>\n",
              "    <tr>\n",
              "      <th>sys_updated_by</th>\n",
              "      <td>714</td>\n",
              "    </tr>\n",
              "    <tr>\n",
              "      <th>sys_updated_at</th>\n",
              "      <td>41969</td>\n",
              "    </tr>\n",
              "    <tr>\n",
              "      <th>contact_type</th>\n",
              "      <td>2</td>\n",
              "    </tr>\n",
              "    <tr>\n",
              "      <th>location</th>\n",
              "      <td>203</td>\n",
              "    </tr>\n",
              "    <tr>\n",
              "      <th>category</th>\n",
              "      <td>45</td>\n",
              "    </tr>\n",
              "    <tr>\n",
              "      <th>subcategory</th>\n",
              "      <td>221</td>\n",
              "    </tr>\n",
              "    <tr>\n",
              "      <th>u_symptom</th>\n",
              "      <td>500</td>\n",
              "    </tr>\n",
              "    <tr>\n",
              "      <th>cmdb_ci</th>\n",
              "      <td>49</td>\n",
              "    </tr>\n",
              "    <tr>\n",
              "      <th>impact</th>\n",
              "      <td>3</td>\n",
              "    </tr>\n",
              "    <tr>\n",
              "      <th>urgency</th>\n",
              "      <td>3</td>\n",
              "    </tr>\n",
              "    <tr>\n",
              "      <th>priority</th>\n",
              "      <td>4</td>\n",
              "    </tr>\n",
              "    <tr>\n",
              "      <th>assignment_group</th>\n",
              "      <td>73</td>\n",
              "    </tr>\n",
              "    <tr>\n",
              "      <th>assigned_to</th>\n",
              "      <td>209</td>\n",
              "    </tr>\n",
              "    <tr>\n",
              "      <th>knowledge</th>\n",
              "      <td>2</td>\n",
              "    </tr>\n",
              "    <tr>\n",
              "      <th>u_priority_confirmation</th>\n",
              "      <td>2</td>\n",
              "    </tr>\n",
              "    <tr>\n",
              "      <th>notify</th>\n",
              "      <td>2</td>\n",
              "    </tr>\n",
              "    <tr>\n",
              "      <th>problem_id</th>\n",
              "      <td>216</td>\n",
              "    </tr>\n",
              "    <tr>\n",
              "      <th>rfc</th>\n",
              "      <td>163</td>\n",
              "    </tr>\n",
              "    <tr>\n",
              "      <th>vendor</th>\n",
              "      <td>5</td>\n",
              "    </tr>\n",
              "    <tr>\n",
              "      <th>caused_by</th>\n",
              "      <td>3</td>\n",
              "    </tr>\n",
              "    <tr>\n",
              "      <th>closed_code</th>\n",
              "      <td>17</td>\n",
              "    </tr>\n",
              "    <tr>\n",
              "      <th>resolved_by</th>\n",
              "      <td>191</td>\n",
              "    </tr>\n",
              "    <tr>\n",
              "      <th>resolved_at</th>\n",
              "      <td>15333</td>\n",
              "    </tr>\n",
              "    <tr>\n",
              "      <th>closed_at</th>\n",
              "      <td>2013</td>\n",
              "    </tr>\n",
              "  </tbody>\n",
              "</table>\n",
              "</div><br><label><b>dtype:</b> int64</label>"
            ]
          },
          "metadata": {},
          "execution_count": 110
        }
      ]
    },
    {
      "cell_type": "markdown",
      "source": [
        "**Observation**\n",
        "\n",
        "\n",
        "\n",
        "*   There are 119998 non null or missing values in the data\n",
        "*   The data has numerical, catagorical and boolean values\n",
        "*   Number is the Incidents ID which can be dropped as it would not add any value for prioritization.\n",
        "*  Columns: 'caller_id', 'opened_at' 'sys_created_at', 'sys_updated_at', 'resolved_at' contain many unique values which can be dropped except for 'opened_at' which might be useful for the prioritization tool.\n",
        "*   The dataset has inconsistent values in  columns: 'rfc', 'vendor' and 'caused_by' that must be handled and dropped.\n",
        "\n",
        "\n",
        "\n",
        "\n",
        "\n"
      ],
      "metadata": {
        "id": "vbHOiVmA6Ovh"
      }
    },
    {
      "cell_type": "code",
      "source": [
        "# Handle incosistent values\n",
        "incident_data = incident_data. replace('?', np.nan)\n",
        "\n",
        "# Verify replacements by checking values\n",
        "incident_data.head()\n"
      ],
      "metadata": {
        "id": "yrotYRNQJoYE",
        "colab": {
          "base_uri": "https://localhost:8080/",
          "height": 342
        },
        "outputId": "e97ab0b9-73da-4348-d96b-ac75babe2bd0"
      },
      "execution_count": 111,
      "outputs": [
        {
          "output_type": "execute_result",
          "data": {
            "text/plain": [
              "       number incident_state  active  reassignment_count  reopen_count  \\\n",
              "0  INC0000045            New    True                   0             0   \n",
              "1  INC0000045       Resolved    True                   0             0   \n",
              "2  INC0000045       Resolved    True                   0             0   \n",
              "3  INC0000045         Closed   False                   0             0   \n",
              "4  INC0000047            New    True                   0             0   \n",
              "\n",
              "   sys_mod_count  made_sla    caller_id       opened_by        opened_at  ...  \\\n",
              "0              0      True  Caller 2403    Opened by  8  29/2/2016 01:16  ...   \n",
              "1              2      True  Caller 2403    Opened by  8  29/2/2016 01:16  ...   \n",
              "2              3      True  Caller 2403    Opened by  8  29/2/2016 01:16  ...   \n",
              "3              4      True  Caller 2403    Opened by  8  29/2/2016 01:16  ...   \n",
              "4              0      True  Caller 2403  Opened by  397  29/2/2016 04:40  ...   \n",
              "\n",
              "  u_priority_confirmation         notify problem_id  rfc vendor caused_by  \\\n",
              "0                   False  Do Not Notify        NaN  NaN    NaN       NaN   \n",
              "1                   False  Do Not Notify        NaN  NaN    NaN       NaN   \n",
              "2                   False  Do Not Notify        NaN  NaN    NaN       NaN   \n",
              "3                   False  Do Not Notify        NaN  NaN    NaN       NaN   \n",
              "4                   False  Do Not Notify        NaN  NaN    NaN       NaN   \n",
              "\n",
              "  closed_code      resolved_by      resolved_at       closed_at  \n",
              "0      code 5  Resolved by 149  29/2/2016 11:29  5/3/2016 12:00  \n",
              "1      code 5  Resolved by 149  29/2/2016 11:29  5/3/2016 12:00  \n",
              "2      code 5  Resolved by 149  29/2/2016 11:29  5/3/2016 12:00  \n",
              "3      code 5  Resolved by 149  29/2/2016 11:29  5/3/2016 12:00  \n",
              "4      code 5   Resolved by 81   1/3/2016 09:52  6/3/2016 10:00  \n",
              "\n",
              "[5 rows x 36 columns]"
            ],
            "text/html": [
              "\n",
              "  <div id=\"df-1875c606-e55a-4b6a-af2d-cda9da509fcd\" class=\"colab-df-container\">\n",
              "    <div>\n",
              "<style scoped>\n",
              "    .dataframe tbody tr th:only-of-type {\n",
              "        vertical-align: middle;\n",
              "    }\n",
              "\n",
              "    .dataframe tbody tr th {\n",
              "        vertical-align: top;\n",
              "    }\n",
              "\n",
              "    .dataframe thead th {\n",
              "        text-align: right;\n",
              "    }\n",
              "</style>\n",
              "<table border=\"1\" class=\"dataframe\">\n",
              "  <thead>\n",
              "    <tr style=\"text-align: right;\">\n",
              "      <th></th>\n",
              "      <th>number</th>\n",
              "      <th>incident_state</th>\n",
              "      <th>active</th>\n",
              "      <th>reassignment_count</th>\n",
              "      <th>reopen_count</th>\n",
              "      <th>sys_mod_count</th>\n",
              "      <th>made_sla</th>\n",
              "      <th>caller_id</th>\n",
              "      <th>opened_by</th>\n",
              "      <th>opened_at</th>\n",
              "      <th>...</th>\n",
              "      <th>u_priority_confirmation</th>\n",
              "      <th>notify</th>\n",
              "      <th>problem_id</th>\n",
              "      <th>rfc</th>\n",
              "      <th>vendor</th>\n",
              "      <th>caused_by</th>\n",
              "      <th>closed_code</th>\n",
              "      <th>resolved_by</th>\n",
              "      <th>resolved_at</th>\n",
              "      <th>closed_at</th>\n",
              "    </tr>\n",
              "  </thead>\n",
              "  <tbody>\n",
              "    <tr>\n",
              "      <th>0</th>\n",
              "      <td>INC0000045</td>\n",
              "      <td>New</td>\n",
              "      <td>True</td>\n",
              "      <td>0</td>\n",
              "      <td>0</td>\n",
              "      <td>0</td>\n",
              "      <td>True</td>\n",
              "      <td>Caller 2403</td>\n",
              "      <td>Opened by  8</td>\n",
              "      <td>29/2/2016 01:16</td>\n",
              "      <td>...</td>\n",
              "      <td>False</td>\n",
              "      <td>Do Not Notify</td>\n",
              "      <td>NaN</td>\n",
              "      <td>NaN</td>\n",
              "      <td>NaN</td>\n",
              "      <td>NaN</td>\n",
              "      <td>code 5</td>\n",
              "      <td>Resolved by 149</td>\n",
              "      <td>29/2/2016 11:29</td>\n",
              "      <td>5/3/2016 12:00</td>\n",
              "    </tr>\n",
              "    <tr>\n",
              "      <th>1</th>\n",
              "      <td>INC0000045</td>\n",
              "      <td>Resolved</td>\n",
              "      <td>True</td>\n",
              "      <td>0</td>\n",
              "      <td>0</td>\n",
              "      <td>2</td>\n",
              "      <td>True</td>\n",
              "      <td>Caller 2403</td>\n",
              "      <td>Opened by  8</td>\n",
              "      <td>29/2/2016 01:16</td>\n",
              "      <td>...</td>\n",
              "      <td>False</td>\n",
              "      <td>Do Not Notify</td>\n",
              "      <td>NaN</td>\n",
              "      <td>NaN</td>\n",
              "      <td>NaN</td>\n",
              "      <td>NaN</td>\n",
              "      <td>code 5</td>\n",
              "      <td>Resolved by 149</td>\n",
              "      <td>29/2/2016 11:29</td>\n",
              "      <td>5/3/2016 12:00</td>\n",
              "    </tr>\n",
              "    <tr>\n",
              "      <th>2</th>\n",
              "      <td>INC0000045</td>\n",
              "      <td>Resolved</td>\n",
              "      <td>True</td>\n",
              "      <td>0</td>\n",
              "      <td>0</td>\n",
              "      <td>3</td>\n",
              "      <td>True</td>\n",
              "      <td>Caller 2403</td>\n",
              "      <td>Opened by  8</td>\n",
              "      <td>29/2/2016 01:16</td>\n",
              "      <td>...</td>\n",
              "      <td>False</td>\n",
              "      <td>Do Not Notify</td>\n",
              "      <td>NaN</td>\n",
              "      <td>NaN</td>\n",
              "      <td>NaN</td>\n",
              "      <td>NaN</td>\n",
              "      <td>code 5</td>\n",
              "      <td>Resolved by 149</td>\n",
              "      <td>29/2/2016 11:29</td>\n",
              "      <td>5/3/2016 12:00</td>\n",
              "    </tr>\n",
              "    <tr>\n",
              "      <th>3</th>\n",
              "      <td>INC0000045</td>\n",
              "      <td>Closed</td>\n",
              "      <td>False</td>\n",
              "      <td>0</td>\n",
              "      <td>0</td>\n",
              "      <td>4</td>\n",
              "      <td>True</td>\n",
              "      <td>Caller 2403</td>\n",
              "      <td>Opened by  8</td>\n",
              "      <td>29/2/2016 01:16</td>\n",
              "      <td>...</td>\n",
              "      <td>False</td>\n",
              "      <td>Do Not Notify</td>\n",
              "      <td>NaN</td>\n",
              "      <td>NaN</td>\n",
              "      <td>NaN</td>\n",
              "      <td>NaN</td>\n",
              "      <td>code 5</td>\n",
              "      <td>Resolved by 149</td>\n",
              "      <td>29/2/2016 11:29</td>\n",
              "      <td>5/3/2016 12:00</td>\n",
              "    </tr>\n",
              "    <tr>\n",
              "      <th>4</th>\n",
              "      <td>INC0000047</td>\n",
              "      <td>New</td>\n",
              "      <td>True</td>\n",
              "      <td>0</td>\n",
              "      <td>0</td>\n",
              "      <td>0</td>\n",
              "      <td>True</td>\n",
              "      <td>Caller 2403</td>\n",
              "      <td>Opened by  397</td>\n",
              "      <td>29/2/2016 04:40</td>\n",
              "      <td>...</td>\n",
              "      <td>False</td>\n",
              "      <td>Do Not Notify</td>\n",
              "      <td>NaN</td>\n",
              "      <td>NaN</td>\n",
              "      <td>NaN</td>\n",
              "      <td>NaN</td>\n",
              "      <td>code 5</td>\n",
              "      <td>Resolved by 81</td>\n",
              "      <td>1/3/2016 09:52</td>\n",
              "      <td>6/3/2016 10:00</td>\n",
              "    </tr>\n",
              "  </tbody>\n",
              "</table>\n",
              "<p>5 rows × 36 columns</p>\n",
              "</div>\n",
              "    <div class=\"colab-df-buttons\">\n",
              "\n",
              "  <div class=\"colab-df-container\">\n",
              "    <button class=\"colab-df-convert\" onclick=\"convertToInteractive('df-1875c606-e55a-4b6a-af2d-cda9da509fcd')\"\n",
              "            title=\"Convert this dataframe to an interactive table.\"\n",
              "            style=\"display:none;\">\n",
              "\n",
              "  <svg xmlns=\"http://www.w3.org/2000/svg\" height=\"24px\" viewBox=\"0 -960 960 960\">\n",
              "    <path d=\"M120-120v-720h720v720H120Zm60-500h600v-160H180v160Zm220 220h160v-160H400v160Zm0 220h160v-160H400v160ZM180-400h160v-160H180v160Zm440 0h160v-160H620v160ZM180-180h160v-160H180v160Zm440 0h160v-160H620v160Z\"/>\n",
              "  </svg>\n",
              "    </button>\n",
              "\n",
              "  <style>\n",
              "    .colab-df-container {\n",
              "      display:flex;\n",
              "      gap: 12px;\n",
              "    }\n",
              "\n",
              "    .colab-df-convert {\n",
              "      background-color: #E8F0FE;\n",
              "      border: none;\n",
              "      border-radius: 50%;\n",
              "      cursor: pointer;\n",
              "      display: none;\n",
              "      fill: #1967D2;\n",
              "      height: 32px;\n",
              "      padding: 0 0 0 0;\n",
              "      width: 32px;\n",
              "    }\n",
              "\n",
              "    .colab-df-convert:hover {\n",
              "      background-color: #E2EBFA;\n",
              "      box-shadow: 0px 1px 2px rgba(60, 64, 67, 0.3), 0px 1px 3px 1px rgba(60, 64, 67, 0.15);\n",
              "      fill: #174EA6;\n",
              "    }\n",
              "\n",
              "    .colab-df-buttons div {\n",
              "      margin-bottom: 4px;\n",
              "    }\n",
              "\n",
              "    [theme=dark] .colab-df-convert {\n",
              "      background-color: #3B4455;\n",
              "      fill: #D2E3FC;\n",
              "    }\n",
              "\n",
              "    [theme=dark] .colab-df-convert:hover {\n",
              "      background-color: #434B5C;\n",
              "      box-shadow: 0px 1px 3px 1px rgba(0, 0, 0, 0.15);\n",
              "      filter: drop-shadow(0px 1px 2px rgba(0, 0, 0, 0.3));\n",
              "      fill: #FFFFFF;\n",
              "    }\n",
              "  </style>\n",
              "\n",
              "    <script>\n",
              "      const buttonEl =\n",
              "        document.querySelector('#df-1875c606-e55a-4b6a-af2d-cda9da509fcd button.colab-df-convert');\n",
              "      buttonEl.style.display =\n",
              "        google.colab.kernel.accessAllowed ? 'block' : 'none';\n",
              "\n",
              "      async function convertToInteractive(key) {\n",
              "        const element = document.querySelector('#df-1875c606-e55a-4b6a-af2d-cda9da509fcd');\n",
              "        const dataTable =\n",
              "          await google.colab.kernel.invokeFunction('convertToInteractive',\n",
              "                                                    [key], {});\n",
              "        if (!dataTable) return;\n",
              "\n",
              "        const docLinkHtml = 'Like what you see? Visit the ' +\n",
              "          '<a target=\"_blank\" href=https://colab.research.google.com/notebooks/data_table.ipynb>data table notebook</a>'\n",
              "          + ' to learn more about interactive tables.';\n",
              "        element.innerHTML = '';\n",
              "        dataTable['output_type'] = 'display_data';\n",
              "        await google.colab.output.renderOutput(dataTable, element);\n",
              "        const docLink = document.createElement('div');\n",
              "        docLink.innerHTML = docLinkHtml;\n",
              "        element.appendChild(docLink);\n",
              "      }\n",
              "    </script>\n",
              "  </div>\n",
              "\n",
              "\n",
              "<div id=\"df-5e81a866-28c9-464f-9893-927b6560d10f\">\n",
              "  <button class=\"colab-df-quickchart\" onclick=\"quickchart('df-5e81a866-28c9-464f-9893-927b6560d10f')\"\n",
              "            title=\"Suggest charts\"\n",
              "            style=\"display:none;\">\n",
              "\n",
              "<svg xmlns=\"http://www.w3.org/2000/svg\" height=\"24px\"viewBox=\"0 0 24 24\"\n",
              "     width=\"24px\">\n",
              "    <g>\n",
              "        <path d=\"M19 3H5c-1.1 0-2 .9-2 2v14c0 1.1.9 2 2 2h14c1.1 0 2-.9 2-2V5c0-1.1-.9-2-2-2zM9 17H7v-7h2v7zm4 0h-2V7h2v10zm4 0h-2v-4h2v4z\"/>\n",
              "    </g>\n",
              "</svg>\n",
              "  </button>\n",
              "\n",
              "<style>\n",
              "  .colab-df-quickchart {\n",
              "      --bg-color: #E8F0FE;\n",
              "      --fill-color: #1967D2;\n",
              "      --hover-bg-color: #E2EBFA;\n",
              "      --hover-fill-color: #174EA6;\n",
              "      --disabled-fill-color: #AAA;\n",
              "      --disabled-bg-color: #DDD;\n",
              "  }\n",
              "\n",
              "  [theme=dark] .colab-df-quickchart {\n",
              "      --bg-color: #3B4455;\n",
              "      --fill-color: #D2E3FC;\n",
              "      --hover-bg-color: #434B5C;\n",
              "      --hover-fill-color: #FFFFFF;\n",
              "      --disabled-bg-color: #3B4455;\n",
              "      --disabled-fill-color: #666;\n",
              "  }\n",
              "\n",
              "  .colab-df-quickchart {\n",
              "    background-color: var(--bg-color);\n",
              "    border: none;\n",
              "    border-radius: 50%;\n",
              "    cursor: pointer;\n",
              "    display: none;\n",
              "    fill: var(--fill-color);\n",
              "    height: 32px;\n",
              "    padding: 0;\n",
              "    width: 32px;\n",
              "  }\n",
              "\n",
              "  .colab-df-quickchart:hover {\n",
              "    background-color: var(--hover-bg-color);\n",
              "    box-shadow: 0 1px 2px rgba(60, 64, 67, 0.3), 0 1px 3px 1px rgba(60, 64, 67, 0.15);\n",
              "    fill: var(--button-hover-fill-color);\n",
              "  }\n",
              "\n",
              "  .colab-df-quickchart-complete:disabled,\n",
              "  .colab-df-quickchart-complete:disabled:hover {\n",
              "    background-color: var(--disabled-bg-color);\n",
              "    fill: var(--disabled-fill-color);\n",
              "    box-shadow: none;\n",
              "  }\n",
              "\n",
              "  .colab-df-spinner {\n",
              "    border: 2px solid var(--fill-color);\n",
              "    border-color: transparent;\n",
              "    border-bottom-color: var(--fill-color);\n",
              "    animation:\n",
              "      spin 1s steps(1) infinite;\n",
              "  }\n",
              "\n",
              "  @keyframes spin {\n",
              "    0% {\n",
              "      border-color: transparent;\n",
              "      border-bottom-color: var(--fill-color);\n",
              "      border-left-color: var(--fill-color);\n",
              "    }\n",
              "    20% {\n",
              "      border-color: transparent;\n",
              "      border-left-color: var(--fill-color);\n",
              "      border-top-color: var(--fill-color);\n",
              "    }\n",
              "    30% {\n",
              "      border-color: transparent;\n",
              "      border-left-color: var(--fill-color);\n",
              "      border-top-color: var(--fill-color);\n",
              "      border-right-color: var(--fill-color);\n",
              "    }\n",
              "    40% {\n",
              "      border-color: transparent;\n",
              "      border-right-color: var(--fill-color);\n",
              "      border-top-color: var(--fill-color);\n",
              "    }\n",
              "    60% {\n",
              "      border-color: transparent;\n",
              "      border-right-color: var(--fill-color);\n",
              "    }\n",
              "    80% {\n",
              "      border-color: transparent;\n",
              "      border-right-color: var(--fill-color);\n",
              "      border-bottom-color: var(--fill-color);\n",
              "    }\n",
              "    90% {\n",
              "      border-color: transparent;\n",
              "      border-bottom-color: var(--fill-color);\n",
              "    }\n",
              "  }\n",
              "</style>\n",
              "\n",
              "  <script>\n",
              "    async function quickchart(key) {\n",
              "      const quickchartButtonEl =\n",
              "        document.querySelector('#' + key + ' button');\n",
              "      quickchartButtonEl.disabled = true;  // To prevent multiple clicks.\n",
              "      quickchartButtonEl.classList.add('colab-df-spinner');\n",
              "      try {\n",
              "        const charts = await google.colab.kernel.invokeFunction(\n",
              "            'suggestCharts', [key], {});\n",
              "      } catch (error) {\n",
              "        console.error('Error during call to suggestCharts:', error);\n",
              "      }\n",
              "      quickchartButtonEl.classList.remove('colab-df-spinner');\n",
              "      quickchartButtonEl.classList.add('colab-df-quickchart-complete');\n",
              "    }\n",
              "    (() => {\n",
              "      let quickchartButtonEl =\n",
              "        document.querySelector('#df-5e81a866-28c9-464f-9893-927b6560d10f button');\n",
              "      quickchartButtonEl.style.display =\n",
              "        google.colab.kernel.accessAllowed ? 'block' : 'none';\n",
              "    })();\n",
              "  </script>\n",
              "</div>\n",
              "\n",
              "    </div>\n",
              "  </div>\n"
            ],
            "application/vnd.google.colaboratory.intrinsic+json": {
              "type": "dataframe",
              "variable_name": "incident_data"
            }
          },
          "metadata": {},
          "execution_count": 111
        }
      ]
    },
    {
      "cell_type": "markdown",
      "source": [
        "## **Drop unwanted columns**"
      ],
      "metadata": {
        "id": "MPCXWw6wBVh-"
      }
    },
    {
      "cell_type": "code",
      "source": [
        "columns_to_drop = [\n",
        "    'number', 'caller_id', 'sys_created_at', 'sys_updated_at', 'sys_created_by', 'sys_updated_by', 'location',\n",
        "    'assigned_to', 'opened_by', 'resolved_by', 'knowledge', 'u_symptom', 'category', 'subcategory', 'closed_code',\n",
        "    'problem_id', 'notify','contact_type', 'rfc', 'vendor', 'caused_by', 'cmdb_ci', 'assignment_group', 'closed_at'\n",
        "]\n",
        "\n",
        "# Drop these columns from the DataFrame\n",
        "incident_data = incident_data.drop(columns=columns_to_drop)\n",
        "\n",
        "# Show the remaining columns\n",
        "print(incident_data.columns)"
      ],
      "metadata": {
        "id": "aAHilyjm6y3r",
        "colab": {
          "base_uri": "https://localhost:8080/"
        },
        "outputId": "c2c8513e-65b2-4881-a46c-29838b553c4c"
      },
      "execution_count": 112,
      "outputs": [
        {
          "output_type": "stream",
          "name": "stdout",
          "text": [
            "Index(['incident_state', 'active', 'reassignment_count', 'reopen_count',\n",
            "       'sys_mod_count', 'made_sla', 'opened_at', 'impact', 'urgency',\n",
            "       'priority', 'u_priority_confirmation', 'resolved_at'],\n",
            "      dtype='object')\n"
          ]
        }
      ]
    },
    {
      "cell_type": "markdown",
      "source": [
        "**Dropping Values**\n",
        "\n",
        "We removed all the unwanted columns from our dataset that is not required for our analysis for prioritization\n",
        "\n",
        "\n"
      ],
      "metadata": {
        "id": "V4gYb93OLb2h"
      }
    },
    {
      "cell_type": "markdown",
      "source": [
        "## **Keep relevant incident status**"
      ],
      "metadata": {
        "id": "CkWNyx3zF2cU"
      }
    },
    {
      "cell_type": "code",
      "source": [
        "active_incidents = incident_data[incident_data['incident_state'].isin(['New', 'Active'])]\n",
        "print(active_incidents.head())"
      ],
      "metadata": {
        "id": "eEGi4vu0JB57",
        "colab": {
          "base_uri": "https://localhost:8080/"
        },
        "outputId": "611eca9b-30e8-4175-d002-a008b407f28f"
      },
      "execution_count": 113,
      "outputs": [
        {
          "output_type": "stream",
          "name": "stdout",
          "text": [
            "  incident_state  active  reassignment_count  reopen_count  sys_mod_count  \\\n",
            "0            New    True                   0             0              0   \n",
            "4            New    True                   0             0              0   \n",
            "5         Active    True                   1             0              1   \n",
            "6         Active    True                   1             0              2   \n",
            "7         Active    True                   1             0              3   \n",
            "\n",
            "   made_sla        opened_at      impact     urgency      priority  \\\n",
            "0      True  29/2/2016 01:16  2 - Medium  2 - Medium  3 - Moderate   \n",
            "4      True  29/2/2016 04:40  2 - Medium  2 - Medium  3 - Moderate   \n",
            "5      True  29/2/2016 04:40  2 - Medium  2 - Medium  3 - Moderate   \n",
            "6      True  29/2/2016 04:40  2 - Medium  2 - Medium  3 - Moderate   \n",
            "7      True  29/2/2016 04:40  2 - Medium  2 - Medium  3 - Moderate   \n",
            "\n",
            "   u_priority_confirmation      resolved_at  \n",
            "0                    False  29/2/2016 11:29  \n",
            "4                    False   1/3/2016 09:52  \n",
            "5                    False   1/3/2016 09:52  \n",
            "6                    False   1/3/2016 09:52  \n",
            "7                    False   1/3/2016 09:52  \n"
          ]
        }
      ]
    },
    {
      "cell_type": "markdown",
      "source": [
        "We only keep incident status that are New and Active and drop the resolved, closed or any other status irrelevant for the tool"
      ],
      "metadata": {
        "id": "Z3-f0-zjNJyY"
      }
    },
    {
      "cell_type": "markdown",
      "source": [
        "## **Datetime Format**"
      ],
      "metadata": {
        "id": "OH7DTJXkO0X_"
      }
    },
    {
      "cell_type": "code",
      "source": [
        "# Convert date columns to datetime format\n",
        "\n",
        "active_incidents.loc[:, 'opened_at'] = pd.to_datetime(active_incidents['opened_at'], errors='coerce', dayfirst=True)\n",
        "active_incidents.loc[:, 'resolved_at'] = pd.to_datetime(active_incidents['resolved_at'], errors='coerce', dayfirst=True)\n",
        "\n",
        "print(active_incidents.head())\n"
      ],
      "metadata": {
        "id": "qq_msaMPNWVT",
        "colab": {
          "base_uri": "https://localhost:8080/"
        },
        "outputId": "ee0ec0ed-784a-4f4d-8215-164276895847"
      },
      "execution_count": 114,
      "outputs": [
        {
          "output_type": "stream",
          "name": "stdout",
          "text": [
            "  incident_state  active  reassignment_count  reopen_count  sys_mod_count  \\\n",
            "0            New    True                   0             0              0   \n",
            "4            New    True                   0             0              0   \n",
            "5         Active    True                   1             0              1   \n",
            "6         Active    True                   1             0              2   \n",
            "7         Active    True                   1             0              3   \n",
            "\n",
            "   made_sla            opened_at      impact     urgency      priority  \\\n",
            "0      True  2016-02-29 01:16:00  2 - Medium  2 - Medium  3 - Moderate   \n",
            "4      True  2016-02-29 04:40:00  2 - Medium  2 - Medium  3 - Moderate   \n",
            "5      True  2016-02-29 04:40:00  2 - Medium  2 - Medium  3 - Moderate   \n",
            "6      True  2016-02-29 04:40:00  2 - Medium  2 - Medium  3 - Moderate   \n",
            "7      True  2016-02-29 04:40:00  2 - Medium  2 - Medium  3 - Moderate   \n",
            "\n",
            "   u_priority_confirmation          resolved_at  \n",
            "0                    False  2016-02-29 11:29:00  \n",
            "4                    False  2016-03-01 09:52:00  \n",
            "5                    False  2016-03-01 09:52:00  \n",
            "6                    False  2016-03-01 09:52:00  \n",
            "7                    False  2016-03-01 09:52:00  \n"
          ]
        }
      ]
    },
    {
      "cell_type": "markdown",
      "source": [
        "## **Standardize Categorical Values**"
      ],
      "metadata": {
        "id": "eemoQ8q0PFsI"
      }
    },
    {
      "cell_type": "markdown",
      "source": [
        "**Clean the priority, impact, and urgency Columns**"
      ],
      "metadata": {
        "id": "m7NsWYTTOS75"
      }
    },
    {
      "cell_type": "code",
      "source": [
        "# Create a copy if active_incidents is a slice to avoid the warning\n",
        "active_incidents = active_incidents.copy()\n",
        "\n",
        "# Remove text after the number and convert columns to numeric\n",
        "active_incidents[['priority', 'impact', 'urgency']] = active_incidents[['priority', 'impact', 'urgency']].apply(lambda x: x.str.split('-').str[0].astype(int))\n",
        "\n",
        "# Verify the changes\n",
        "print(active_incidents.head())\n"
      ],
      "metadata": {
        "colab": {
          "base_uri": "https://localhost:8080/"
        },
        "id": "ckwpcWeeORUu",
        "outputId": "ac6a0d8c-ab44-4f84-cecc-e234edd6cc0d"
      },
      "execution_count": 115,
      "outputs": [
        {
          "output_type": "stream",
          "name": "stdout",
          "text": [
            "  incident_state  active  reassignment_count  reopen_count  sys_mod_count  \\\n",
            "0            New    True                   0             0              0   \n",
            "4            New    True                   0             0              0   \n",
            "5         Active    True                   1             0              1   \n",
            "6         Active    True                   1             0              2   \n",
            "7         Active    True                   1             0              3   \n",
            "\n",
            "   made_sla            opened_at  impact  urgency  priority  \\\n",
            "0      True  2016-02-29 01:16:00       2        2         3   \n",
            "4      True  2016-02-29 04:40:00       2        2         3   \n",
            "5      True  2016-02-29 04:40:00       2        2         3   \n",
            "6      True  2016-02-29 04:40:00       2        2         3   \n",
            "7      True  2016-02-29 04:40:00       2        2         3   \n",
            "\n",
            "   u_priority_confirmation          resolved_at  \n",
            "0                    False  2016-02-29 11:29:00  \n",
            "4                    False  2016-03-01 09:52:00  \n",
            "5                    False  2016-03-01 09:52:00  \n",
            "6                    False  2016-03-01 09:52:00  \n",
            "7                    False  2016-03-01 09:52:00  \n"
          ]
        }
      ]
    },
    {
      "cell_type": "code",
      "source": [
        "# Convert text columns to lowercase and remove extra whitespace\n",
        "categorical_columns = ['incident_state', 'priority']\n",
        "for col in categorical_columns:\n",
        "  # Convert to string if not already\n",
        "    if active_incidents[col].dtype != 'object':\n",
        "        active_incidents.loc[:, col] = active_incidents[col].astype('object')\n",
        "\n",
        "    active_incidents.loc[:, col] = active_incidents[col].astype(str).str.lower().str.strip()\n",
        "\n",
        "\n",
        "# Convert categorical columns to 'category' type for memory efficiency\n",
        "for col in categorical_columns:\n",
        "    active_incidents.loc[:, col] = active_incidents[col].astype('category')\n",
        "\n",
        "# Verify the changes\n",
        "print(active_incidents.head())"
      ],
      "metadata": {
        "id": "1Svbqp7MPZwA",
        "colab": {
          "base_uri": "https://localhost:8080/"
        },
        "outputId": "9a481979-09f6-4151-da19-82545b7c5e82"
      },
      "execution_count": 116,
      "outputs": [
        {
          "output_type": "stream",
          "name": "stdout",
          "text": [
            "  incident_state  active  reassignment_count  reopen_count  sys_mod_count  \\\n",
            "0            new    True                   0             0              0   \n",
            "4            new    True                   0             0              0   \n",
            "5         active    True                   1             0              1   \n",
            "6         active    True                   1             0              2   \n",
            "7         active    True                   1             0              3   \n",
            "\n",
            "   made_sla            opened_at  impact  urgency priority  \\\n",
            "0      True  2016-02-29 01:16:00       2        2        3   \n",
            "4      True  2016-02-29 04:40:00       2        2        3   \n",
            "5      True  2016-02-29 04:40:00       2        2        3   \n",
            "6      True  2016-02-29 04:40:00       2        2        3   \n",
            "7      True  2016-02-29 04:40:00       2        2        3   \n",
            "\n",
            "   u_priority_confirmation          resolved_at  \n",
            "0                    False  2016-02-29 11:29:00  \n",
            "4                    False  2016-03-01 09:52:00  \n",
            "5                    False  2016-03-01 09:52:00  \n",
            "6                    False  2016-03-01 09:52:00  \n",
            "7                    False  2016-03-01 09:52:00  \n"
          ]
        }
      ]
    },
    {
      "cell_type": "markdown",
      "source": [
        "## **Remove Duplicate Rows**"
      ],
      "metadata": {
        "id": "14P74RlGQf93"
      }
    },
    {
      "cell_type": "code",
      "source": [
        "# Remove duplicate rows based on key columns\n",
        "active_incidents = active_incidents.drop_duplicates(subset=['incident_state', 'opened_at'])\n",
        "\n",
        "# Confirm no duplicate rows remain\n",
        "print(active_incidents.info())\n"
      ],
      "metadata": {
        "id": "NK8gqcWYQO12",
        "colab": {
          "base_uri": "https://localhost:8080/"
        },
        "outputId": "45a799e6-a32e-46ed-952a-95e994f541a9"
      },
      "execution_count": 117,
      "outputs": [
        {
          "output_type": "stream",
          "name": "stdout",
          "text": [
            "<class 'pandas.core.frame.DataFrame'>\n",
            "Index: 22108 entries, 0 to 119997\n",
            "Data columns (total 12 columns):\n",
            " #   Column                   Non-Null Count  Dtype \n",
            "---  ------                   --------------  ----- \n",
            " 0   incident_state           22108 non-null  object\n",
            " 1   active                   22108 non-null  bool  \n",
            " 2   reassignment_count       22108 non-null  int64 \n",
            " 3   reopen_count             22108 non-null  int64 \n",
            " 4   sys_mod_count            22108 non-null  int64 \n",
            " 5   made_sla                 22108 non-null  bool  \n",
            " 6   opened_at                22108 non-null  object\n",
            " 7   impact                   22108 non-null  int64 \n",
            " 8   urgency                  22108 non-null  int64 \n",
            " 9   priority                 22108 non-null  object\n",
            " 10  u_priority_confirmation  22108 non-null  bool  \n",
            " 11  resolved_at              22104 non-null  object\n",
            "dtypes: bool(3), int64(5), object(4)\n",
            "memory usage: 1.7+ MB\n",
            "None\n"
          ]
        }
      ]
    },
    {
      "cell_type": "markdown",
      "source": [],
      "metadata": {
        "id": "zTOdNsk_VEWa"
      }
    },
    {
      "cell_type": "markdown",
      "source": [
        "# **4. Developing a prioritization scoring system**\n",
        "\n",
        "A prioritization scoring system is a framework used to rank or prioritize tasks, incidents, or issues based on their urgency, importance, and impact. It assigns a numerical score to each item, helping decision-makers quickly determine which items need immediate attention and which can be deferred.\n",
        "\n",
        "For an incident prioritization tool, the scoring system would analyze various attributes of each incident—such as its age (time since creation), assigned priority level, reassignments, and reopenings—and calculate a total score for each incident. Incidents with higher scores are more critical and should be addressed first.\n",
        "\n",
        "\n",
        "**Understanding Key Metrics for Prioritization Score**\n",
        "1. Incident resolution time: It is the time it took to resolve the incident, from opened_at to resolved_at stage.\n",
        "2. Severity Levels (Priority, Impact, Urgency): These fields indicate incident criticality, they can be weighted accordingly to add context to the resolution time.\n",
        "3. Reassignment count: The number of times an incident has been reassigned from one team or individual to another during its lifecycle.\n",
        "A high reassignment count suggests complexity and potentially inefficient handling.\n",
        "4. Reopen count: The number of times an incident has been reopened after being marked as resolved or closed. High reopen counts indicate unresolved or recurring issues, suggesting the initial resolution was insufficient.\n",
        "\n"
      ],
      "metadata": {
        "id": "HaiW8GMdRWLD"
      }
    },
    {
      "cell_type": "markdown",
      "source": [
        "### **Calculating Key Metrics**"
      ],
      "metadata": {
        "id": "4NKKWHWSFPLy"
      }
    },
    {
      "cell_type": "markdown",
      "source": [
        "**Incident Resolution Time for Resolved Incidents**"
      ],
      "metadata": {
        "id": "v9mZ4QzZJnMv"
      }
    },
    {
      "cell_type": "code",
      "source": [
        "# Calculate 'resolution_time' as the difference between 'resolved_at' and 'opened_at' for resolved incidents\n",
        "#active_incidents.loc[:, 'resolution_time'] = (active_incidents['resolved_at'] - active_incidents['opened_at']).dt.total_seconds() / 86400  # Total seconds converted to days\n",
        "active_incidents.loc[:,'resolution_time'] = (active_incidents['resolved_at'] - active_incidents['opened_at']).apply(lambda x: x.total_seconds() / 86400 if pd.notna(x) else 0)\n",
        "\n",
        "# Fill NaT (Not a Time) values with 0, assuming incidents not resolved yet have 0 resolution time\n",
        "active_incidents.loc[:, 'resolution_time'] = active_incidents['resolution_time'].fillna(0)\n",
        "\n",
        "# Preview the calculated resolution time for resolved incidents\n",
        "print(active_incidents[['opened_at', 'resolved_at', 'resolution_time']].head())\n"
      ],
      "metadata": {
        "colab": {
          "base_uri": "https://localhost:8080/"
        },
        "id": "Bxz30RltJlCR",
        "outputId": "7940cf2e-aebe-46ff-976d-b4322b6e2be7"
      },
      "execution_count": 118,
      "outputs": [
        {
          "output_type": "stream",
          "name": "stdout",
          "text": [
            "              opened_at          resolved_at  resolution_time\n",
            "0   2016-02-29 01:16:00  2016-02-29 11:29:00         0.425694\n",
            "4   2016-02-29 04:40:00  2016-03-01 09:52:00         1.216667\n",
            "5   2016-02-29 04:40:00  2016-03-01 09:52:00         1.216667\n",
            "13  2016-02-29 06:10:00  2016-03-01 02:55:00         0.864583\n",
            "20  2016-02-29 06:38:00  2016-03-02 12:06:00         2.227778\n"
          ]
        }
      ]
    },
    {
      "cell_type": "markdown",
      "source": [
        "Calculating the age of each incident to determine how long it’s been unresolved"
      ],
      "metadata": {
        "id": "xrN5f6mUYaw0"
      }
    },
    {
      "cell_type": "markdown",
      "source": [
        "## **Prioritization Scoring**\n",
        "\n",
        "**Steps for Prioritization scoring:**\n",
        "\n",
        "1.   Set up a scoring formula or criteria based on key columns like resolution_time,\n",
        ", reassignment_count, and reopen_count.\n",
        "2.   Apply the Scoring Function to Each Incident.\n",
        "3.   Sort Incidents by Priority Score.\n",
        "\n",
        "**Calculating Performance Score**\n",
        "\n",
        "Here is how this formula works:\n",
        "\n",
        "### Performance Score = (Priority Weight ×(4 − priority)) + (Impact Weight × (4 − impact)) + (Urgency Weight × (4 − urgency)) + (Resolution Time × 0.1) + (Reassignment Count × 0.5) + (Reopen Count × 1)\n",
        "\n",
        "\n",
        "\n",
        "\n"
      ],
      "metadata": {
        "id": "pc-FiNllWGkM"
      }
    },
    {
      "source": [
        "# Define performance scoring function\n",
        "def cal_performance_score(row):\n",
        "    priority_weight = 2\n",
        "    impact_weight = 1.5\n",
        "    urgency_weight = 1\n",
        "\n",
        "    # Convert priority, impact, and urgency to numeric if they are strings\n",
        "    priority = pd.to_numeric(row['priority'], errors='coerce')\n",
        "    impact = pd.to_numeric(row['impact'], errors='coerce')\n",
        "    urgency = pd.to_numeric(row['urgency'], errors='coerce')\n",
        "\n",
        "    # Calculate the Performance Score\n",
        "    score = (priority_weight * (4 - priority) +\n",
        "             impact_weight * (4 - impact) +\n",
        "             urgency_weight * (4 - urgency) +\n",
        "             row['resolution_time'] * 0.1 +\n",
        "             row['reassignment_count'] * 0.5 +\n",
        "             row['reopen_count'] * 1)\n",
        "    return score\n",
        "\n",
        "# Apply the scoring function with adjusted weights\n",
        "active_incidents['performance_score'] = active_incidents.apply(cal_performance_score, axis=1)\n",
        "\n",
        "# Sort and display top incidents by performance score\n",
        "top_incidents = active_incidents.sort_values(by='performance_score', ascending=False)\n",
        "print(top_incidents[['priority', 'impact', 'urgency', 'resolution_time', 'reassignment_count', 'reopen_count', 'performance_score']].head(10))"
      ],
      "cell_type": "code",
      "metadata": {
        "colab": {
          "base_uri": "https://localhost:8080/"
        },
        "id": "VyUg1D4_gNSQ",
        "outputId": "08ffd313-3762-431c-d488-2a64f757eb8e"
      },
      "execution_count": 119,
      "outputs": [
        {
          "output_type": "stream",
          "name": "stdout",
          "text": [
            "      priority  impact  urgency  resolution_time  reassignment_count  \\\n",
            "5611         3       2        2       334.177778                   0   \n",
            "32855        3       2        2       325.153472                   0   \n",
            "83447        3       2        2       300.857639                   0   \n",
            "83448        3       2        2       300.857639                   0   \n",
            "18180        3       2        2       280.375000                   0   \n",
            "26236        3       2        2       273.248611                   0   \n",
            "4670         3       2        2       267.106250                   0   \n",
            "44540        3       2        2       267.051389                   0   \n",
            "20664        3       2        2       266.911111                   0   \n",
            "1015         4       2        3       296.761806                   0   \n",
            "\n",
            "       reopen_count  performance_score  \n",
            "5611              0          40.417778  \n",
            "32855             0          39.515347  \n",
            "83447             0          37.085764  \n",
            "83448             0          37.085764  \n",
            "18180             0          35.037500  \n",
            "26236             0          34.324861  \n",
            "4670              0          33.710625  \n",
            "44540             0          33.705139  \n",
            "20664             0          33.691111  \n",
            "1015              0          33.676181  \n"
          ]
        }
      ]
    },
    {
      "cell_type": "markdown",
      "source": [
        "## **Interpretation**\n",
        "\n",
        "\n",
        "priority_weight, impact_weight, and urgency_weight: These are weights that define the importance of each metric. Higher weights indicate more influence on the final score.\n",
        "\n",
        "\n",
        "**Summary**\n",
        "\n",
        "\n",
        "\n",
        "*   Higher Scores (35+): Suggest incidents with high resolution times, indicating delayed responses or potential inefficiencies.\n",
        "*   Mid-range Scores (30–35): Moderate incidents with somewhat quicker resolutions, less immediate for prioritization.\n",
        "*   Low Scores (if present): Typically shorter resolution times, lower urgency.\n",
        "\n",
        "\n",
        "\n",
        "\n",
        "\n",
        "\n",
        "\n"
      ],
      "metadata": {
        "id": "lsKHKubVP30J"
      }
    },
    {
      "cell_type": "markdown",
      "source": [
        "# **5. Analyze and Visualize Performance Scores**"
      ],
      "metadata": {
        "id": "Z8yGyE4hjDE8"
      }
    },
    {
      "cell_type": "markdown",
      "source": [
        "### **Distribution of Performance Scores: Use a histogram**"
      ],
      "metadata": {
        "id": "2rxGiltDm8FJ"
      }
    },
    {
      "cell_type": "code",
      "source": [
        "# Visualize Performance Score\n",
        "num_bins = int(np.ceil(np.log2(len(top_incidents)) + 1))\n",
        "\n",
        "\n",
        "plt.figure(figsize=(8, 6))\n",
        "plt.hist(top_incidents['performance_score'].dropna(),bins=num_bins, color='skyblue', edgecolor='black')\n",
        "plt.title('Distribution of Performance Scores')\n",
        "plt.xlabel('Performance Score(units)')\n",
        "plt.ylabel('Frequency(count)')\n",
        "plt.xticks(range(0, 36, 10))\n",
        "plt.yticks((range(0, 11000, 500)))\n",
        "plt.show()"
      ],
      "metadata": {
        "colab": {
          "base_uri": "https://localhost:8080/",
          "height": 564
        },
        "id": "kfi4clsmiRJl",
        "outputId": "31ee9ad2-1baa-4bb2-cc77-3da48817cfe1"
      },
      "execution_count": 123,
      "outputs": [
        {
          "output_type": "display_data",
          "data": {
            "text/plain": [
              "<Figure size 800x600 with 1 Axes>"
            ],
            "image/png": "[encoded data removed]"
          },
          "metadata": {}
        }
      ]
    },
    {
      "cell_type": "markdown",
      "source": [
        "**Interpretation**\n",
        "\n",
        "\n",
        "\n",
        "*   The majority of incidents have performance scores between 5 and 10, indicating that most incidents are of moderate complexity or severity.\n",
        "*   Very few incidents have performance scores above 20, suggesting that extremely severe or complex incidents are rare in this dataset.\n",
        "*   This skewed distribution highlights that most incidents are handled efficiently and do not escalate into high-priority, complex cases.\n",
        "\n",
        "\n",
        "\n",
        "\n",
        "\n",
        "\n"
      ],
      "metadata": {
        "id": "yKIEd7uEuZ97"
      }
    },
    {
      "cell_type": "markdown",
      "source": [
        "### **Average Performance Score by Priority Level:**"
      ],
      "metadata": {
        "id": "Vf0APtlnmuW8"
      }
    },
    {
      "cell_type": "code",
      "source": [
        "plt.figure(figsize=(8, 5))\n",
        "sns.barplot(x='priority', y='performance_score', data=top_incidents, palette='viridis')\n",
        "plt.title('Average Performance Score by Priority Level')\n",
        "plt.xlabel('Priority Level')\n",
        "plt.ylabel('Average Performance Score')\n",
        "plt.show()\n"
      ],
      "metadata": {
        "colab": {
          "base_uri": "https://localhost:8080/",
          "height": 487
        },
        "id": "IgIuMBYQmtzh",
        "outputId": "fa36175a-5b8f-4ecf-fe3c-455e3883619c"
      },
      "execution_count": 121,
      "outputs": [
        {
          "output_type": "display_data",
          "data": {
            "text/plain": [
              "<Figure size 800x500 with 1 Axes>"
            ],
            "image/png": "[encoded data removed]"
          },
          "metadata": {}
        }
      ]
    },
    {
      "cell_type": "markdown",
      "source": [
        "**Interpretation**\n",
        "\n",
        "\n",
        "\n",
        "*   Incidents with Priority Level 1 have the highest average performance score, followed by Priority Level 2 and then 3.\n",
        "*   This trend indicates that incidents marked with higher priority levels (e.g., Priority 1) tend to be more severe or complex, with longer resolution times and possibly more reassignment or reopening.\n",
        "*   Priority Level 4 incidents have the lowest average performance score, suggesting that they are generally less complex or critical.\n",
        "\n",
        "\n"
      ],
      "metadata": {
        "id": "tm6oI37fuqtn"
      }
    },
    {
      "cell_type": "markdown",
      "source": [
        "**Resolution Time vs. Performance Score:**\n",
        "\n",
        "Scatter plot to show the relationship between resolution time and performance score.\n",
        "\n"
      ],
      "metadata": {
        "id": "PZz5xz7NraZV"
      }
    },
    {
      "cell_type": "code",
      "source": [
        "plt.figure(figure=(8, 5))\n",
        "plt.scatter(top_incidents['resolution_time'], top_incidents['performance_score'], alpha=0.5, color='blue')\n",
        "plt.title('Resolution Time Vs. Performance Score')\n",
        "plt.xlabel('Resolution Time(days)')\n",
        "plt.ylabel('Performance Score')\n",
        "plt.show()\n"
      ],
      "metadata": {
        "colab": {
          "base_uri": "https://localhost:8080/",
          "height": 472
        },
        "id": "oEF8JCZqrhGR",
        "outputId": "18c7db3a-f9ea-4d16-c565-ed1f46221e8c"
      },
      "execution_count": 122,
      "outputs": [
        {
          "output_type": "display_data",
          "data": {
            "text/plain": [
              "<Figure size 640x480 with 1 Axes>"
            ],
            "image/png": "[encoded data removed]"
          },
          "metadata": {}
        }
      ]
    },
    {
      "cell_type": "markdown",
      "source": [
        "**Interpretation**\n",
        "\n",
        "\n",
        "*   There is a positive correlation between resolution time and performance score. Incidents with longer resolution times tend to have higher performance scores.\n",
        "*   As unresolved incidents or those requiring a longer time to resolve often reflect greater complexity, severity, or resource requirements, leading to higher scores.\n",
        "*   The clustering of data points near lower resolution times and performance scores suggests that many incidents are resolved relatively quickly and with less complexity.\n",
        "\n",
        "\n"
      ],
      "metadata": {
        "id": "D7hTVKaSvDps"
      }
    },
    {
      "cell_type": "markdown",
      "source": [
        "# **6. Final Thoughts**\n",
        "\n",
        "Incident Response and Resolution Tool that uses a data-driven performance score to prioritize incidents based on factors like priority, impact, urgency, resolution time, and complexity.\n",
        "\n",
        "Key Findings:\n",
        "\n",
        "1.   Effective Prioritization: Higher scores accurately reflect critical and complex incidents, aligning well with priority levels.\n",
        "2.   Resolution Time Correlation: Longer resolution times contribute significantly to higher scores, highlighting delays or complex cases.\n",
        "3.   Efficient Distribution: Most incidents have moderate scores, suggesting effective incident management overall.\n",
        "\n",
        "The tool enables a structured approach to incident management, ensuring that high-priority issues receive timely attention and improving overall resolution efficiency.\n",
        "\n",
        "\n",
        "\n",
        "\n",
        "\n",
        "\n"
      ],
      "metadata": {
        "id": "87Jz_1VJv_GZ"
      }
    }
  ]
}